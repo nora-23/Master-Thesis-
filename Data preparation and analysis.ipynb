{
 "cells": [
  {
   "cell_type": "code",
   "execution_count": 1,
   "id": "47324027",
   "metadata": {},
   "outputs": [],
   "source": [
    "import pandas as pd\n",
    "import numpy as np\n",
    "import datetime\n",
    "from datetime import time \n",
    "import scipy as sp\n",
    "from sklearn.metrics.pairwise import cosine_similarity\n",
    "import seaborn as sns "
   ]
  },
  {
   "cell_type": "code",
   "execution_count": 2,
   "id": "8621d89c",
   "metadata": {},
   "outputs": [],
   "source": [
    "#Write a function to load a dataset do some modification on it and keep top customers and top items \n",
    "def data_docs_load(name1, name2):\n",
    "    \n",
    "    #load data sets \n",
    "    data1 = pd.read_csv(name1, sep = \";\", header = 0)\n",
    "    data2 = pd.read_csv(name2, sep = \";\", header=0, error_bad_lines=False)\n",
    "    \n",
    "    # find duplicate values and drop them\n",
    "    if data1.duplicated().sum() != 0:\n",
    "        data1 = data1[~data1.duplicated(keep = 'first')]\n",
    "        \n",
    "    #convert str to float  \n",
    "    data1 = data1.rename({'sum': 'sum of doc'}, axis = 1)\n",
    "    data1 = data1.drop(data1['sum of doc'].index[1000])\n",
    "    \n",
    "    data1['sum of doc'] = data1['sum of doc'].str.replace(',','.')\n",
    "    data1['sum of doc'] = data1['sum of doc'].astype(float)\n",
    "    \n",
    "    data2['id_card'] = data2['id_card'].astype(str)\n",
    "\n",
    "    data2['sum'] = data2['sum'].str.replace(',',\".\")\n",
    "    data2['quantity'] = data2['quantity'].str.replace(\",\",\".\")\n",
    "\n",
    "    data2['sum'] = data2['sum'].astype(float)\n",
    "    data2['quantity'] = data2['quantity'].astype(float)\n",
    "\n",
    "    data2['quantity'] = data2['quantity'].apply(lambda x:round(x,2))\n",
    "    \n",
    "    #keep interested columns\n",
    "    data1 = data1.loc[:,['id_doc', 'id_card', 'sum of doc' , 'date']]\n",
    "    data2 = data2.loc[:, ['id_doc', 'id_card', 'id_tov', 'quantity', 'sum']]\n",
    "    \n",
    "    all_data = pd.merge(data2, data1, on = 'id_doc', how = 'left')\n",
    "    all_data = all_data.drop('id_card_y', axis = 1)\n",
    "    \n",
    "    # Find top customers \n",
    "    top_customers = all_data.groupby('id_card_x')[['id_doc']].nunique()\n",
    "    top_customers = top_customers.reset_index().sort_values(by ='id_doc', ascending = False).head(1000)\n",
    "    \n",
    "    #filter data for top customers\n",
    "    filtered_data = all_data[all_data['id_card_x'].isin(top_customers['id_card_x'])]\n",
    "    \n",
    "    #find top items for that top customers \n",
    "    top_items = filtered_data.groupby('id_tov')['sum'].sum()\n",
    "    top_items_new = top_items.reset_index().sort_values(by = 'sum', ascending = False).head(400)\n",
    "    filtered_data_items = filtered_data[filtered_data['id_tov'].isin(top_items_new['id_tov'])]\n",
    "    \n",
    "    return filtered_data_items, top_customers, top_items_new"
   ]
  },
  {
   "cell_type": "code",
   "execution_count": 3,
   "id": "32e20211",
   "metadata": {},
   "outputs": [
    {
     "name": "stderr",
     "output_type": "stream",
     "text": [
      "C:\\Users\\ngrigory\\AppData\\Local\\Temp/ipykernel_15212/3185719642.py:1: DtypeWarning: Columns (2) have mixed types.Specify dtype option on import or set low_memory=False.\n",
      "  sep, customers, items  = data_docs_load('docs_202009_01_31.txt','products_20200901.txt')\n",
      "C:\\Users\\ngrigory\\AppData\\Local\\Temp/ipykernel_15212/3185719642.py:1: FutureWarning: The error_bad_lines argument has been deprecated and will be removed in a future version.\n",
      "\n",
      "\n",
      "  sep, customers, items  = data_docs_load('docs_202009_01_31.txt','products_20200901.txt')\n"
     ]
    }
   ],
   "source": [
    "sep, customers, items  = data_docs_load('docs_202009_01_31.txt','products_20200901.txt')"
   ]
  },
  {
   "cell_type": "code",
   "execution_count": 4,
   "id": "1639aaff",
   "metadata": {},
   "outputs": [],
   "source": [
    "def data_load(name1, name2, customers, items):\n",
    "     \n",
    "     #load data sets \n",
    "    data1 = pd.read_csv(name1, sep = \";\", header = 0, encoding = 'latin-1', error_bad_lines=False)\n",
    "    #with open(name1, encoding=\"utf8\", errors='ignore') as f:\n",
    "    data2 = pd.read_csv(name2, sep = \";\", header = 0, error_bad_lines=False, encoding = 'latin-1')\n",
    "    \n",
    "    # find duplicate values and drop them\n",
    "    if data1.duplicated().sum() != 0:\n",
    "        data1 = data1[~data1.duplicated(keep = 'first')]\n",
    "        \n",
    "    #convert str to float  \n",
    "    data1 = data1.rename({'sum': 'sum of doc'}, axis = 1)\n",
    "    data1 = data1.drop(data1['sum of doc'].index[1000])\n",
    "    \n",
    "    data1['sum of doc'] = data1['sum of doc'].str.replace(',','.')\n",
    "    data1['sum of doc'] = data1['sum of doc'].astype(float)\n",
    "    \n",
    "    data2['id_card'] = data2['id_card'].astype(str)\n",
    "\n",
    "    data2['sum'] = data2['sum'].str.replace(',',\".\")\n",
    "    data2['quantity'] = data2['quantity'].str.replace(\",\",\".\")\n",
    "\n",
    "    data2['sum'] = data2['sum'].astype(float)\n",
    "    data2['quantity'] = data2['quantity'].astype(float)\n",
    "\n",
    "    data2['quantity'] = data2['quantity'].apply(lambda x:round(x,2))\n",
    "    \n",
    "    #keep interested columns\n",
    "    data1 = data1.loc[:,['id_doc', 'id_card', 'sum of doc' , 'date']]\n",
    "    data2 = data2.loc[:, ['id_doc', 'id_card', 'id_tov', 'quantity', 'sum']]\n",
    "    \n",
    "    all_data = pd.merge(data2, data1, on = 'id_doc', how = 'left')\n",
    "    all_data = all_data.drop('id_card_y', axis = 1)\n",
    "    \n",
    "    #filter data for top customers\n",
    "    filtered_data = all_data[all_data['id_card_x'].isin(customers['id_card_x'])]\n",
    "    \n",
    "    #find top items for that top customers \n",
    "    filtered_data_items = filtered_data[filtered_data['id_tov'].isin(items['id_tov'])]\n",
    "    \n",
    "    return filtered_data_items"
   ]
  },
  {
   "cell_type": "code",
   "execution_count": 5,
   "id": "6c2dfef1",
   "metadata": {},
   "outputs": [
    {
     "name": "stderr",
     "output_type": "stream",
     "text": [
      "C:\\Users\\ngrigory\\AppData\\Local\\Temp/ipykernel_15212/3005240662.py:1: FutureWarning: The error_bad_lines argument has been deprecated and will be removed in a future version.\n",
      "\n",
      "\n",
      "  october = data_load('docs_202010_01_31.txt','product_sum_20201001.txt',customers,items)\n",
      "b'Skipping line 274011: expected 9 fields, saw 11\\n'\n"
     ]
    }
   ],
   "source": [
    "october = data_load('docs_202010_01_31.txt','product_sum_20201001.txt',customers,items)"
   ]
  },
  {
   "cell_type": "code",
   "execution_count": 6,
   "id": "f3f3b5bc",
   "metadata": {},
   "outputs": [
    {
     "name": "stderr",
     "output_type": "stream",
     "text": [
      "C:\\Users\\ngrigory\\AppData\\Local\\Temp/ipykernel_15212/443012047.py:1: FutureWarning: The error_bad_lines argument has been deprecated and will be removed in a future version.\n",
      "\n",
      "\n",
      "  nov = data_load('docs_202011_01_30.txt','products_20201101.txt', customers, items)\n"
     ]
    }
   ],
   "source": [
    "nov = data_load('docs_202011_01_30.txt','products_20201101.txt', customers, items)"
   ]
  },
  {
   "cell_type": "code",
   "execution_count": 7,
   "id": "a84a5559",
   "metadata": {},
   "outputs": [],
   "source": [
    "# Sort datasets by date and conatenate them \n",
    "sep = sep.sort_values(by = 'date')\n",
    "october = october.sort_values(by = 'date')\n",
    "nov = nov.sort_values(by = 'date')"
   ]
  },
  {
   "cell_type": "code",
   "execution_count": 8,
   "id": "1d77e794",
   "metadata": {},
   "outputs": [],
   "source": [
    "data = pd.concat([sep,october,nov])"
   ]
  },
  {
   "cell_type": "code",
   "execution_count": 9,
   "id": "8c843455",
   "metadata": {},
   "outputs": [],
   "source": [
    "data['date'] = pd.to_datetime(data['date'], format='%Y-%m-%d %H:%M:%S')"
   ]
  },
  {
   "cell_type": "markdown",
   "id": "35f9447d",
   "metadata": {},
   "source": [
    "### Data Visualization "
   ]
  },
  {
   "cell_type": "code",
   "execution_count": 10,
   "id": "0560ba98",
   "metadata": {},
   "outputs": [],
   "source": [
    "out = data.groupby('id_card_x')[['id_doc']].nunique()\n",
    "out = out.reset_index()"
   ]
  },
  {
   "cell_type": "code",
   "execution_count": 11,
   "id": "408b6b95",
   "metadata": {},
   "outputs": [
    {
     "data": {
      "text/plain": [
       "Text(0, 0.5, 'Count of purchases for each user')"
      ]
     },
     "execution_count": 11,
     "metadata": {},
     "output_type": "execute_result"
    },
    {
     "data": {
      "image/png": "[encoded data removed]",
      "text/plain": [
       "<Figure size 432x288 with 1 Axes>"
      ]
     },
     "metadata": {
      "needs_background": "light"
     },
     "output_type": "display_data"
    }
   ],
   "source": [
    "boxplot = out.boxplot(column = ['id_doc'])\n",
    "boxplot.set_title(\"Boxplot for users and their purhcase count\")\n",
    "boxplot.set_xlabel('Document ID')\n",
    "boxplot.set_ylabel('Count of purchases for each user')"
   ]
  },
  {
   "cell_type": "code",
   "execution_count": 12,
   "id": "cfc1e806",
   "metadata": {},
   "outputs": [
    {
     "data": {
      "text/plain": [
       "id_card_x    a869620   \n",
       "id_doc           246958\n",
       "dtype: object"
      ]
     },
     "execution_count": 12,
     "metadata": {},
     "output_type": "execute_result"
    }
   ],
   "source": [
    "out.max()"
   ]
  },
  {
   "cell_type": "code",
   "execution_count": 13,
   "id": "df621aa9",
   "metadata": {},
   "outputs": [],
   "source": [
    " out.drop(out[out['id_doc'] == 246958].index, inplace = True)"
   ]
  },
  {
   "cell_type": "code",
   "execution_count": 14,
   "id": "27707cc0",
   "metadata": {},
   "outputs": [
    {
     "data": {
      "text/plain": [
       "Text(0, 0.5, 'Count of purchases for each user')"
      ]
     },
     "execution_count": 14,
     "metadata": {},
     "output_type": "execute_result"
    },
    {
     "data": {
      "image/png": "[encoded data removed]",
      "text/plain": [
       "<Figure size 432x288 with 1 Axes>"
      ]
     },
     "metadata": {
      "needs_background": "light"
     },
     "output_type": "display_data"
    }
   ],
   "source": [
    "boxplot = out.boxplot(column = ['id_doc'])\n",
    "\n",
    "boxplot.set_title('Boxplot for users and their purhcase count')\n",
    "boxplot.set_xlabel('Document ID')\n",
    "boxplot.set_ylabel('Count of purchases for each user')"
   ]
  },
  {
   "cell_type": "code",
   "execution_count": 15,
   "id": "089e25f5",
   "metadata": {},
   "outputs": [],
   "source": [
    "# Drop the id card index from the original data \n",
    "\n",
    "data.drop(data[data['id_card_x'] == '4806534'].index, inplace = True)"
   ]
  },
  {
   "cell_type": "code",
   "execution_count": 16,
   "id": "aab130c1",
   "metadata": {},
   "outputs": [],
   "source": [
    "data.columns = ['Document ID', 'Customer ID', 'Item ID', 'Quantity',\n",
    "       'Sum of item', 'Sum of doc', 'Transaction Date']"
   ]
  },
  {
   "cell_type": "code",
   "execution_count": 17,
   "id": "9993cd1d",
   "metadata": {},
   "outputs": [
    {
     "data": {
      "text/html": [
       "<div>\n",
       "<style scoped>\n",
       "    .dataframe tbody tr th:only-of-type {\n",
       "        vertical-align: middle;\n",
       "    }\n",
       "\n",
       "    .dataframe tbody tr th {\n",
       "        vertical-align: top;\n",
       "    }\n",
       "\n",
       "    .dataframe thead th {\n",
       "        text-align: right;\n",
       "    }\n",
       "</style>\n",
       "<table border=\"1\" class=\"dataframe\">\n",
       "  <thead>\n",
       "    <tr style=\"text-align: right;\">\n",
       "      <th></th>\n",
       "      <th>Document ID</th>\n",
       "      <th>Customer ID</th>\n",
       "      <th>Item ID</th>\n",
       "      <th>Quantity</th>\n",
       "      <th>Sum of item</th>\n",
       "      <th>Sum of doc</th>\n",
       "      <th>Transaction Date</th>\n",
       "    </tr>\n",
       "  </thead>\n",
       "  <tbody>\n",
       "    <tr>\n",
       "      <th>0</th>\n",
       "      <td>6A70251E-DEEB-EA11-B444-005056A7539A</td>\n",
       "      <td>4806534</td>\n",
       "      <td>34580</td>\n",
       "      <td>1.0</td>\n",
       "      <td>128.00</td>\n",
       "      <td>167.0</td>\n",
       "      <td>2020-09-01 02:01:03</td>\n",
       "    </tr>\n",
       "    <tr>\n",
       "      <th>1</th>\n",
       "      <td>300F2961-E2EB-EA11-B444-005056A7539A</td>\n",
       "      <td>1123834</td>\n",
       "      <td>26904</td>\n",
       "      <td>1.0</td>\n",
       "      <td>195.00</td>\n",
       "      <td>195.0</td>\n",
       "      <td>2020-09-01 02:32:57</td>\n",
       "    </tr>\n",
       "    <tr>\n",
       "      <th>2</th>\n",
       "      <td>4DCB33F0-E4EB-EA11-B444-005056A7539A</td>\n",
       "      <td>1123834</td>\n",
       "      <td>23585</td>\n",
       "      <td>1.0</td>\n",
       "      <td>126.00</td>\n",
       "      <td>191.0</td>\n",
       "      <td>2020-09-01 02:51:25</td>\n",
       "    </tr>\n",
       "    <tr>\n",
       "      <th>3</th>\n",
       "      <td>6DDA126C-F6EB-EA11-B444-005056A7539A</td>\n",
       "      <td>4806534</td>\n",
       "      <td>24165</td>\n",
       "      <td>1.0</td>\n",
       "      <td>79.00</td>\n",
       "      <td>167.0</td>\n",
       "      <td>2020-09-01 04:56:03</td>\n",
       "    </tr>\n",
       "    <tr>\n",
       "      <th>4</th>\n",
       "      <td>8190AF90-F6EB-EA11-B444-005056A7539A</td>\n",
       "      <td>4806534</td>\n",
       "      <td>19766</td>\n",
       "      <td>1.0</td>\n",
       "      <td>56.00</td>\n",
       "      <td>182.0</td>\n",
       "      <td>2020-09-01 04:57:04</td>\n",
       "    </tr>\n",
       "    <tr>\n",
       "      <th>...</th>\n",
       "      <td>...</td>\n",
       "      <td>...</td>\n",
       "      <td>...</td>\n",
       "      <td>...</td>\n",
       "      <td>...</td>\n",
       "      <td>...</td>\n",
       "      <td>...</td>\n",
       "    </tr>\n",
       "    <tr>\n",
       "      <th>645505</th>\n",
       "      <td>A86894A3-6D31-EB11-B444-005056A7539A</td>\n",
       "      <td>7895757</td>\n",
       "      <td>31712</td>\n",
       "      <td>1.0</td>\n",
       "      <td>100.20</td>\n",
       "      <td>NaN</td>\n",
       "      <td>NaT</td>\n",
       "    </tr>\n",
       "    <tr>\n",
       "      <th>645506</th>\n",
       "      <td>F5684A02-7031-EB11-B444-005056A7539A</td>\n",
       "      <td>4806534</td>\n",
       "      <td>36582</td>\n",
       "      <td>1.0</td>\n",
       "      <td>80.59</td>\n",
       "      <td>NaN</td>\n",
       "      <td>NaT</td>\n",
       "    </tr>\n",
       "    <tr>\n",
       "      <th>645507</th>\n",
       "      <td>6D90B3F7-6131-EB11-B444-005056A7539A</td>\n",
       "      <td>8408114</td>\n",
       "      <td>16229</td>\n",
       "      <td>1.0</td>\n",
       "      <td>132.98</td>\n",
       "      <td>NaN</td>\n",
       "      <td>NaT</td>\n",
       "    </tr>\n",
       "    <tr>\n",
       "      <th>645508</th>\n",
       "      <td>5F11E720-EB32-EB11-B444-005056A7539A</td>\n",
       "      <td>3008729</td>\n",
       "      <td>25360</td>\n",
       "      <td>1.0</td>\n",
       "      <td>60.00</td>\n",
       "      <td>NaN</td>\n",
       "      <td>NaT</td>\n",
       "    </tr>\n",
       "    <tr>\n",
       "      <th>645509</th>\n",
       "      <td>DCAFD5F5-2633-EB11-B444-005056A7539A</td>\n",
       "      <td>0869338</td>\n",
       "      <td>34120</td>\n",
       "      <td>1.0</td>\n",
       "      <td>106.75</td>\n",
       "      <td>NaN</td>\n",
       "      <td>NaT</td>\n",
       "    </tr>\n",
       "  </tbody>\n",
       "</table>\n",
       "<p>645510 rows × 7 columns</p>\n",
       "</div>"
      ],
      "text/plain": [
       "                                 Document ID Customer ID  Item ID  Quantity  \\\n",
       "0       6A70251E-DEEB-EA11-B444-005056A7539A  4806534       34580       1.0   \n",
       "1       300F2961-E2EB-EA11-B444-005056A7539A  1123834       26904       1.0   \n",
       "2       4DCB33F0-E4EB-EA11-B444-005056A7539A  1123834       23585       1.0   \n",
       "3       6DDA126C-F6EB-EA11-B444-005056A7539A  4806534       24165       1.0   \n",
       "4       8190AF90-F6EB-EA11-B444-005056A7539A  4806534       19766       1.0   \n",
       "...                                      ...         ...      ...       ...   \n",
       "645505  A86894A3-6D31-EB11-B444-005056A7539A  7895757       31712       1.0   \n",
       "645506  F5684A02-7031-EB11-B444-005056A7539A  4806534       36582       1.0   \n",
       "645507  6D90B3F7-6131-EB11-B444-005056A7539A  8408114       16229       1.0   \n",
       "645508  5F11E720-EB32-EB11-B444-005056A7539A  3008729       25360       1.0   \n",
       "645509  DCAFD5F5-2633-EB11-B444-005056A7539A  0869338       34120       1.0   \n",
       "\n",
       "        Sum of item  Sum of doc    Transaction Date  \n",
       "0            128.00       167.0 2020-09-01 02:01:03  \n",
       "1            195.00       195.0 2020-09-01 02:32:57  \n",
       "2            126.00       191.0 2020-09-01 02:51:25  \n",
       "3             79.00       167.0 2020-09-01 04:56:03  \n",
       "4             56.00       182.0 2020-09-01 04:57:04  \n",
       "...             ...         ...                 ...  \n",
       "645505       100.20         NaN                 NaT  \n",
       "645506        80.59         NaN                 NaT  \n",
       "645507       132.98         NaN                 NaT  \n",
       "645508        60.00         NaN                 NaT  \n",
       "645509       106.75         NaN                 NaT  \n",
       "\n",
       "[645510 rows x 7 columns]"
      ]
     },
     "execution_count": 17,
     "metadata": {},
     "output_type": "execute_result"
    }
   ],
   "source": [
    "data.reset_index(drop = True)"
   ]
  },
  {
   "cell_type": "code",
   "execution_count": 18,
   "id": "40b876d9",
   "metadata": {},
   "outputs": [],
   "source": [
    "data = data.dropna()"
   ]
  },
  {
   "cell_type": "code",
   "execution_count": 19,
   "id": "c32d11ac",
   "metadata": {},
   "outputs": [],
   "source": [
    "data['Customer ID'] = data['Customer ID'].astype('str')"
   ]
  },
  {
   "cell_type": "code",
   "execution_count": 20,
   "id": "4629a710",
   "metadata": {},
   "outputs": [],
   "source": [
    "data = data[~data['Customer ID'].str.contains('4806534')]"
   ]
  },
  {
   "cell_type": "code",
   "execution_count": 21,
   "id": "40e4c6b3",
   "metadata": {},
   "outputs": [
    {
     "data": {
      "text/html": [
       "<div>\n",
       "<style scoped>\n",
       "    .dataframe tbody tr th:only-of-type {\n",
       "        vertical-align: middle;\n",
       "    }\n",
       "\n",
       "    .dataframe tbody tr th {\n",
       "        vertical-align: top;\n",
       "    }\n",
       "\n",
       "    .dataframe thead th {\n",
       "        text-align: right;\n",
       "    }\n",
       "</style>\n",
       "<table border=\"1\" class=\"dataframe\">\n",
       "  <thead>\n",
       "    <tr style=\"text-align: right;\">\n",
       "      <th></th>\n",
       "      <th>Document ID</th>\n",
       "      <th>Customer ID</th>\n",
       "      <th>Item ID</th>\n",
       "      <th>Quantity</th>\n",
       "      <th>Sum of item</th>\n",
       "      <th>Sum of doc</th>\n",
       "      <th>Transaction Date</th>\n",
       "    </tr>\n",
       "  </thead>\n",
       "  <tbody>\n",
       "    <tr>\n",
       "      <th>0</th>\n",
       "      <td>300F2961-E2EB-EA11-B444-005056A7539A</td>\n",
       "      <td>1123834</td>\n",
       "      <td>26904</td>\n",
       "      <td>1.0</td>\n",
       "      <td>195.0</td>\n",
       "      <td>195.0</td>\n",
       "      <td>2020-09-01 02:32:57</td>\n",
       "    </tr>\n",
       "    <tr>\n",
       "      <th>1</th>\n",
       "      <td>4DCB33F0-E4EB-EA11-B444-005056A7539A</td>\n",
       "      <td>1123834</td>\n",
       "      <td>23585</td>\n",
       "      <td>1.0</td>\n",
       "      <td>126.0</td>\n",
       "      <td>191.0</td>\n",
       "      <td>2020-09-01 02:51:25</td>\n",
       "    </tr>\n",
       "    <tr>\n",
       "      <th>2</th>\n",
       "      <td>773417AE-09EC-EA11-B444-005056A7539A</td>\n",
       "      <td>6671470</td>\n",
       "      <td>17736</td>\n",
       "      <td>1.0</td>\n",
       "      <td>37.8</td>\n",
       "      <td>292.8</td>\n",
       "      <td>2020-09-01 07:04:59</td>\n",
       "    </tr>\n",
       "    <tr>\n",
       "      <th>3</th>\n",
       "      <td>773417AE-09EC-EA11-B444-005056A7539A</td>\n",
       "      <td>6671470</td>\n",
       "      <td>20698</td>\n",
       "      <td>1.0</td>\n",
       "      <td>96.0</td>\n",
       "      <td>292.8</td>\n",
       "      <td>2020-09-01 07:04:59</td>\n",
       "    </tr>\n",
       "    <tr>\n",
       "      <th>4</th>\n",
       "      <td>773417AE-09EC-EA11-B444-005056A7539A</td>\n",
       "      <td>6671470</td>\n",
       "      <td>15433</td>\n",
       "      <td>1.0</td>\n",
       "      <td>24.0</td>\n",
       "      <td>292.8</td>\n",
       "      <td>2020-09-01 07:04:59</td>\n",
       "    </tr>\n",
       "  </tbody>\n",
       "</table>\n",
       "</div>"
      ],
      "text/plain": [
       "                            Document ID Customer ID  Item ID  Quantity  \\\n",
       "0  300F2961-E2EB-EA11-B444-005056A7539A  1123834       26904       1.0   \n",
       "1  4DCB33F0-E4EB-EA11-B444-005056A7539A  1123834       23585       1.0   \n",
       "2  773417AE-09EC-EA11-B444-005056A7539A  6671470       17736       1.0   \n",
       "3  773417AE-09EC-EA11-B444-005056A7539A  6671470       20698       1.0   \n",
       "4  773417AE-09EC-EA11-B444-005056A7539A  6671470       15433       1.0   \n",
       "\n",
       "   Sum of item  Sum of doc    Transaction Date  \n",
       "0        195.0       195.0 2020-09-01 02:32:57  \n",
       "1        126.0       191.0 2020-09-01 02:51:25  \n",
       "2         37.8       292.8 2020-09-01 07:04:59  \n",
       "3         96.0       292.8 2020-09-01 07:04:59  \n",
       "4         24.0       292.8 2020-09-01 07:04:59  "
      ]
     },
     "execution_count": 21,
     "metadata": {},
     "output_type": "execute_result"
    }
   ],
   "source": [
    "data = data.reset_index(drop = True)\n",
    "data.head()"
   ]
  },
  {
   "cell_type": "code",
   "execution_count": 22,
   "id": "985595dd",
   "metadata": {},
   "outputs": [],
   "source": [
    "data['Date'] =  pd.DatetimeIndex(data['Transaction Date']).date\n",
    "data['Date'] = pd.to_datetime(data['Date'], format='%Y-%m-%d')"
   ]
  },
  {
   "cell_type": "code",
   "execution_count": 23,
   "id": "c3327173",
   "metadata": {},
   "outputs": [
    {
     "data": {
      "text/html": [
       "<div>\n",
       "<style scoped>\n",
       "    .dataframe tbody tr th:only-of-type {\n",
       "        vertical-align: middle;\n",
       "    }\n",
       "\n",
       "    .dataframe tbody tr th {\n",
       "        vertical-align: top;\n",
       "    }\n",
       "\n",
       "    .dataframe thead th {\n",
       "        text-align: right;\n",
       "    }\n",
       "</style>\n",
       "<table border=\"1\" class=\"dataframe\">\n",
       "  <thead>\n",
       "    <tr style=\"text-align: right;\">\n",
       "      <th></th>\n",
       "      <th>Document ID</th>\n",
       "      <th>Customer ID</th>\n",
       "      <th>Item ID</th>\n",
       "      <th>Quantity</th>\n",
       "      <th>Sum of item</th>\n",
       "      <th>Sum of doc</th>\n",
       "      <th>Transaction Date</th>\n",
       "      <th>Date</th>\n",
       "    </tr>\n",
       "  </thead>\n",
       "  <tbody>\n",
       "    <tr>\n",
       "      <th>0</th>\n",
       "      <td>300F2961-E2EB-EA11-B444-005056A7539A</td>\n",
       "      <td>1123834</td>\n",
       "      <td>26904</td>\n",
       "      <td>1.00</td>\n",
       "      <td>195.00</td>\n",
       "      <td>195.0</td>\n",
       "      <td>2020-09-01 02:32:57</td>\n",
       "      <td>2020-09-01</td>\n",
       "    </tr>\n",
       "    <tr>\n",
       "      <th>1</th>\n",
       "      <td>4DCB33F0-E4EB-EA11-B444-005056A7539A</td>\n",
       "      <td>1123834</td>\n",
       "      <td>23585</td>\n",
       "      <td>1.00</td>\n",
       "      <td>126.00</td>\n",
       "      <td>191.0</td>\n",
       "      <td>2020-09-01 02:51:25</td>\n",
       "      <td>2020-09-01</td>\n",
       "    </tr>\n",
       "    <tr>\n",
       "      <th>2</th>\n",
       "      <td>773417AE-09EC-EA11-B444-005056A7539A</td>\n",
       "      <td>6671470</td>\n",
       "      <td>17736</td>\n",
       "      <td>1.00</td>\n",
       "      <td>37.80</td>\n",
       "      <td>292.8</td>\n",
       "      <td>2020-09-01 07:04:59</td>\n",
       "      <td>2020-09-01</td>\n",
       "    </tr>\n",
       "    <tr>\n",
       "      <th>3</th>\n",
       "      <td>773417AE-09EC-EA11-B444-005056A7539A</td>\n",
       "      <td>6671470</td>\n",
       "      <td>20698</td>\n",
       "      <td>1.00</td>\n",
       "      <td>96.00</td>\n",
       "      <td>292.8</td>\n",
       "      <td>2020-09-01 07:04:59</td>\n",
       "      <td>2020-09-01</td>\n",
       "    </tr>\n",
       "    <tr>\n",
       "      <th>4</th>\n",
       "      <td>773417AE-09EC-EA11-B444-005056A7539A</td>\n",
       "      <td>6671470</td>\n",
       "      <td>15433</td>\n",
       "      <td>1.00</td>\n",
       "      <td>24.00</td>\n",
       "      <td>292.8</td>\n",
       "      <td>2020-09-01 07:04:59</td>\n",
       "      <td>2020-09-01</td>\n",
       "    </tr>\n",
       "    <tr>\n",
       "      <th>...</th>\n",
       "      <td>...</td>\n",
       "      <td>...</td>\n",
       "      <td>...</td>\n",
       "      <td>...</td>\n",
       "      <td>...</td>\n",
       "      <td>...</td>\n",
       "      <td>...</td>\n",
       "      <td>...</td>\n",
       "    </tr>\n",
       "    <tr>\n",
       "      <th>279379</th>\n",
       "      <td>637F758A-4A33-EB11-B444-005056A7539A</td>\n",
       "      <td>2344410</td>\n",
       "      <td>61</td>\n",
       "      <td>1.00</td>\n",
       "      <td>56.00</td>\n",
       "      <td>56.0</td>\n",
       "      <td>2020-11-30 23:26:43</td>\n",
       "      <td>2020-11-30</td>\n",
       "    </tr>\n",
       "    <tr>\n",
       "      <th>279380</th>\n",
       "      <td>F5272AAF-4C33-EB11-B444-005056A7539A</td>\n",
       "      <td>9651803</td>\n",
       "      <td>647</td>\n",
       "      <td>1.00</td>\n",
       "      <td>5.00</td>\n",
       "      <td>401.0</td>\n",
       "      <td>2020-11-30 23:41:30</td>\n",
       "      <td>2020-11-30</td>\n",
       "    </tr>\n",
       "    <tr>\n",
       "      <th>279381</th>\n",
       "      <td>F5272AAF-4C33-EB11-B444-005056A7539A</td>\n",
       "      <td>9651803</td>\n",
       "      <td>18271</td>\n",
       "      <td>1.00</td>\n",
       "      <td>66.00</td>\n",
       "      <td>401.0</td>\n",
       "      <td>2020-11-30 23:41:30</td>\n",
       "      <td>2020-11-30</td>\n",
       "    </tr>\n",
       "    <tr>\n",
       "      <th>279382</th>\n",
       "      <td>715CDD3D-4D33-EB11-B444-005056A7539A</td>\n",
       "      <td>4425584</td>\n",
       "      <td>1713</td>\n",
       "      <td>0.32</td>\n",
       "      <td>9.43</td>\n",
       "      <td>249.0</td>\n",
       "      <td>2020-11-30 23:45:20</td>\n",
       "      <td>2020-11-30</td>\n",
       "    </tr>\n",
       "    <tr>\n",
       "      <th>279383</th>\n",
       "      <td>715CDD3D-4D33-EB11-B444-005056A7539A</td>\n",
       "      <td>4425584</td>\n",
       "      <td>30560</td>\n",
       "      <td>1.00</td>\n",
       "      <td>16.96</td>\n",
       "      <td>249.0</td>\n",
       "      <td>2020-11-30 23:45:20</td>\n",
       "      <td>2020-11-30</td>\n",
       "    </tr>\n",
       "  </tbody>\n",
       "</table>\n",
       "<p>279384 rows × 8 columns</p>\n",
       "</div>"
      ],
      "text/plain": [
       "                                 Document ID Customer ID  Item ID  Quantity  \\\n",
       "0       300F2961-E2EB-EA11-B444-005056A7539A  1123834       26904      1.00   \n",
       "1       4DCB33F0-E4EB-EA11-B444-005056A7539A  1123834       23585      1.00   \n",
       "2       773417AE-09EC-EA11-B444-005056A7539A  6671470       17736      1.00   \n",
       "3       773417AE-09EC-EA11-B444-005056A7539A  6671470       20698      1.00   \n",
       "4       773417AE-09EC-EA11-B444-005056A7539A  6671470       15433      1.00   \n",
       "...                                      ...         ...      ...       ...   \n",
       "279379  637F758A-4A33-EB11-B444-005056A7539A  2344410          61      1.00   \n",
       "279380  F5272AAF-4C33-EB11-B444-005056A7539A  9651803         647      1.00   \n",
       "279381  F5272AAF-4C33-EB11-B444-005056A7539A  9651803       18271      1.00   \n",
       "279382  715CDD3D-4D33-EB11-B444-005056A7539A  4425584        1713      0.32   \n",
       "279383  715CDD3D-4D33-EB11-B444-005056A7539A  4425584       30560      1.00   \n",
       "\n",
       "        Sum of item  Sum of doc    Transaction Date       Date  \n",
       "0            195.00       195.0 2020-09-01 02:32:57 2020-09-01  \n",
       "1            126.00       191.0 2020-09-01 02:51:25 2020-09-01  \n",
       "2             37.80       292.8 2020-09-01 07:04:59 2020-09-01  \n",
       "3             96.00       292.8 2020-09-01 07:04:59 2020-09-01  \n",
       "4             24.00       292.8 2020-09-01 07:04:59 2020-09-01  \n",
       "...             ...         ...                 ...        ...  \n",
       "279379        56.00        56.0 2020-11-30 23:26:43 2020-11-30  \n",
       "279380         5.00       401.0 2020-11-30 23:41:30 2020-11-30  \n",
       "279381        66.00       401.0 2020-11-30 23:41:30 2020-11-30  \n",
       "279382         9.43       249.0 2020-11-30 23:45:20 2020-11-30  \n",
       "279383        16.96       249.0 2020-11-30 23:45:20 2020-11-30  \n",
       "\n",
       "[279384 rows x 8 columns]"
      ]
     },
     "execution_count": 23,
     "metadata": {},
     "output_type": "execute_result"
    }
   ],
   "source": [
    "data"
   ]
  },
  {
   "cell_type": "code",
   "execution_count": 25,
   "id": "27f902d7",
   "metadata": {},
   "outputs": [],
   "source": [
    "# export to csv \n",
    "data.to_csv('merged data.csv')"
   ]
  },
  {
   "cell_type": "code",
   "execution_count": 24,
   "id": "4914f56e",
   "metadata": {},
   "outputs": [],
   "source": [
    "def plot_for_month(data, month,text):\n",
    "    data_month = data[data['Date'].dt.month == month]\n",
    "    bar_plot = data_month.groupby(data_month['Date'].dt.day)['Item ID'].count()\n",
    "    max_x = bar_plot.idxmax()\n",
    "    max_y = bar_plot.max()\n",
    "    \n",
    "    bar_plot = bar_plot.reset_index()\n",
    "    items = bar_plot['Item ID'].values\n",
    "    colors = ['darksalmon' if (l < max(items)) else 'red' for l in items]\n",
    "    \n",
    "    sns.set(rc={'figure.figsize':(11.7,8.27)})\n",
    "    sns.set_style('white')\n",
    "    \n",
    "    graph = sns.barplot(x=\"Date\", y=\"Item ID\", data = bar_plot,  palette=colors)\n",
    "    graph.text(x = max_x, y = max_y,  s = 'the highest \\nnumber of purchased items', \n",
    "        color='red', size= 12, weight='bold')\n",
    "    graph.set(xlabel = 'Day of the Month', ylabel = 'Number of purchases',title = text)\n",
    "    \n",
    "    return graph"
   ]
  },
  {
   "cell_type": "code",
   "execution_count": 25,
   "id": "b2835ce6",
   "metadata": {},
   "outputs": [
    {
     "data": {
      "text/plain": [
       "<AxesSubplot:title={'center':'Purchased items for September'}, xlabel='Day of the Month', ylabel='Number of purchases'>"
      ]
     },
     "execution_count": 25,
     "metadata": {},
     "output_type": "execute_result"
    },
    {
     "data": {
      "image/png": "[encoded data removed]",
      "text/plain": [
       "<Figure size 842.4x595.44 with 1 Axes>"
      ]
     },
     "metadata": {},
     "output_type": "display_data"
    }
   ],
   "source": [
    "plot_for_month(data, 9,'Purchased items for September' )"
   ]
  },
  {
   "cell_type": "code",
   "execution_count": 26,
   "id": "d443a3f4",
   "metadata": {},
   "outputs": [
    {
     "data": {
      "text/plain": [
       "<AxesSubplot:title={'center':'Purchased items for October'}, xlabel='Day of the Month', ylabel='Number of purchases'>"
      ]
     },
     "execution_count": 26,
     "metadata": {},
     "output_type": "execute_result"
    },
    {
     "data": {
      "image/png": "[encoded data removed]",
      "text/plain": [
       "<Figure size 842.4x595.44 with 1 Axes>"
      ]
     },
     "metadata": {},
     "output_type": "display_data"
    }
   ],
   "source": [
    "plot_for_month(data, 10 ,'Purchased items for October' )"
   ]
  },
  {
   "cell_type": "code",
   "execution_count": 27,
   "id": "6acf1299",
   "metadata": {},
   "outputs": [
    {
     "data": {
      "text/plain": [
       "<AxesSubplot:title={'center':'Purchased items for November'}, xlabel='Day of the Month', ylabel='Number of purchases'>"
      ]
     },
     "execution_count": 27,
     "metadata": {},
     "output_type": "execute_result"
    },
    {
     "data": {
      "image/png": "[encoded data removed]",
      "text/plain": [
       "<Figure size 842.4x595.44 with 1 Axes>"
      ]
     },
     "metadata": {},
     "output_type": "display_data"
    }
   ],
   "source": [
    "plot_for_month(data, 11 ,'Purchased items for November' )"
   ]
  },
  {
   "cell_type": "code",
   "execution_count": 28,
   "id": "2eb629a9",
   "metadata": {},
   "outputs": [],
   "source": [
    "def items_per_month(data, month):\n",
    "    item_data_month = data[data['Date'].dt.month == month]\n",
    "    data_bar_month = item_data_month.groupby('Item ID')['Quantity'].sum().nlargest(15).reset_index()\n",
    "    items_month = data_bar_month['Item ID']\n",
    "    \n",
    "    return data_bar_month, items_month\n",
    "    "
   ]
  },
  {
   "cell_type": "code",
   "execution_count": 29,
   "id": "13429e69",
   "metadata": {},
   "outputs": [],
   "source": [
    "def graph_for_month(data_bar_1,items_month_1,items_month_2,items_month_3,text):\n",
    "    colors_1 = ['darkcyan' if ((l == items_month_2).any() & (l == items_month_3).any()) else 'powderblue' for l in items_month_1]\n",
    "\n",
    "    \n",
    "    sns.set(rc={'figure.figsize':(11.7,8.27)})\n",
    "    sns.set_style('white')\n",
    "    \n",
    "        \n",
    "    \n",
    "    graph_1 = sns.barplot(x=\"Item ID\", y=\"Quantity\", data = data_bar_1,  palette= colors_1, order = data_bar_1[\"Item ID\"])\n",
    "    graph_1.set(title = text)\n",
    "    \n",
    "    return graph_1"
   ]
  },
  {
   "cell_type": "code",
   "execution_count": 30,
   "id": "340c9d45",
   "metadata": {},
   "outputs": [],
   "source": [
    "data_sep,items_sep = items_per_month(data, 9)\n",
    "data_oct,items_oct = items_per_month(data, 10)\n",
    "data_nov,items_nov = items_per_month(data, 11)"
   ]
  },
  {
   "cell_type": "code",
   "execution_count": 31,
   "id": "969984da",
   "metadata": {},
   "outputs": [
    {
     "data": {
      "image/png": "[encoded data removed]",
      "text/plain": [
       "<Figure size 842.4x595.44 with 1 Axes>"
      ]
     },
     "metadata": {},
     "output_type": "display_data"
    }
   ],
   "source": [
    "graph_sep = graph_for_month(data_sep,items_sep,items_oct,items_nov,'Most bought items in September')"
   ]
  },
  {
   "cell_type": "code",
   "execution_count": 32,
   "id": "aead4701",
   "metadata": {},
   "outputs": [
    {
     "data": {
      "image/png": "[encoded data removed]",
      "text/plain": [
       "<Figure size 842.4x595.44 with 1 Axes>"
      ]
     },
     "metadata": {},
     "output_type": "display_data"
    }
   ],
   "source": [
    "graph_oct = graph_for_month(data_oct,items_oct,items_sep,items_nov,'Most bought items in October')"
   ]
  },
  {
   "cell_type": "code",
   "execution_count": 33,
   "id": "96d0995c",
   "metadata": {},
   "outputs": [
    {
     "data": {
      "image/png": "[encoded data removed]",
      "text/plain": [
       "<Figure size 842.4x595.44 with 1 Axes>"
      ]
     },
     "metadata": {},
     "output_type": "display_data"
    }
   ],
   "source": [
    "graph_nov = graph_for_month(data_nov,items_nov,items_oct,items_sep,'Most bought items in November')"
   ]
  },
  {
   "cell_type": "markdown",
   "id": "c638bf14",
   "metadata": {},
   "source": [
    "### Model part"
   ]
  },
  {
   "cell_type": "code",
   "execution_count": 34,
   "id": "bc2186cf",
   "metadata": {},
   "outputs": [],
   "source": [
    "nov_date = datetime.datetime(2020, 11, 15)\n",
    "\n",
    "train = data[data['Date'] < nov_date]\n",
    "test = data[data['Date'] > nov_date]"
   ]
  },
  {
   "cell_type": "code",
   "execution_count": 35,
   "id": "2d99f63d",
   "metadata": {},
   "outputs": [
    {
     "data": {
      "text/html": [
       "<div>\n",
       "<style scoped>\n",
       "    .dataframe tbody tr th:only-of-type {\n",
       "        vertical-align: middle;\n",
       "    }\n",
       "\n",
       "    .dataframe tbody tr th {\n",
       "        vertical-align: top;\n",
       "    }\n",
       "\n",
       "    .dataframe thead th {\n",
       "        text-align: right;\n",
       "    }\n",
       "</style>\n",
       "<table border=\"1\" class=\"dataframe\">\n",
       "  <thead>\n",
       "    <tr style=\"text-align: right;\">\n",
       "      <th></th>\n",
       "      <th>Document ID</th>\n",
       "      <th>Customer ID</th>\n",
       "      <th>Item ID</th>\n",
       "      <th>Quantity</th>\n",
       "      <th>Sum of item</th>\n",
       "      <th>Sum of doc</th>\n",
       "      <th>Transaction Date</th>\n",
       "      <th>Date</th>\n",
       "    </tr>\n",
       "  </thead>\n",
       "  <tbody>\n",
       "    <tr>\n",
       "      <th>0</th>\n",
       "      <td>300F2961-E2EB-EA11-B444-005056A7539A</td>\n",
       "      <td>1123834</td>\n",
       "      <td>26904</td>\n",
       "      <td>1.0</td>\n",
       "      <td>195.0</td>\n",
       "      <td>195.0</td>\n",
       "      <td>2020-09-01 02:32:57</td>\n",
       "      <td>2020-09-01</td>\n",
       "    </tr>\n",
       "    <tr>\n",
       "      <th>1</th>\n",
       "      <td>4DCB33F0-E4EB-EA11-B444-005056A7539A</td>\n",
       "      <td>1123834</td>\n",
       "      <td>23585</td>\n",
       "      <td>1.0</td>\n",
       "      <td>126.0</td>\n",
       "      <td>191.0</td>\n",
       "      <td>2020-09-01 02:51:25</td>\n",
       "      <td>2020-09-01</td>\n",
       "    </tr>\n",
       "    <tr>\n",
       "      <th>2</th>\n",
       "      <td>773417AE-09EC-EA11-B444-005056A7539A</td>\n",
       "      <td>6671470</td>\n",
       "      <td>17736</td>\n",
       "      <td>1.0</td>\n",
       "      <td>37.8</td>\n",
       "      <td>292.8</td>\n",
       "      <td>2020-09-01 07:04:59</td>\n",
       "      <td>2020-09-01</td>\n",
       "    </tr>\n",
       "    <tr>\n",
       "      <th>3</th>\n",
       "      <td>773417AE-09EC-EA11-B444-005056A7539A</td>\n",
       "      <td>6671470</td>\n",
       "      <td>20698</td>\n",
       "      <td>1.0</td>\n",
       "      <td>96.0</td>\n",
       "      <td>292.8</td>\n",
       "      <td>2020-09-01 07:04:59</td>\n",
       "      <td>2020-09-01</td>\n",
       "    </tr>\n",
       "    <tr>\n",
       "      <th>4</th>\n",
       "      <td>773417AE-09EC-EA11-B444-005056A7539A</td>\n",
       "      <td>6671470</td>\n",
       "      <td>15433</td>\n",
       "      <td>1.0</td>\n",
       "      <td>24.0</td>\n",
       "      <td>292.8</td>\n",
       "      <td>2020-09-01 07:04:59</td>\n",
       "      <td>2020-09-01</td>\n",
       "    </tr>\n",
       "    <tr>\n",
       "      <th>...</th>\n",
       "      <td>...</td>\n",
       "      <td>...</td>\n",
       "      <td>...</td>\n",
       "      <td>...</td>\n",
       "      <td>...</td>\n",
       "      <td>...</td>\n",
       "      <td>...</td>\n",
       "      <td>...</td>\n",
       "    </tr>\n",
       "    <tr>\n",
       "      <th>237599</th>\n",
       "      <td>8383244E-B626-EB11-B444-005056A7539A</td>\n",
       "      <td>3473448</td>\n",
       "      <td>27695</td>\n",
       "      <td>1.0</td>\n",
       "      <td>76.0</td>\n",
       "      <td>281.0</td>\n",
       "      <td>2020-11-14 23:09:35</td>\n",
       "      <td>2020-11-14</td>\n",
       "    </tr>\n",
       "    <tr>\n",
       "      <th>237600</th>\n",
       "      <td>2CEE5A30-B626-EB11-B444-005056A7539A</td>\n",
       "      <td>4628205</td>\n",
       "      <td>417</td>\n",
       "      <td>1.0</td>\n",
       "      <td>102.0</td>\n",
       "      <td>171.6</td>\n",
       "      <td>2020-11-14 23:15:17</td>\n",
       "      <td>2020-11-14</td>\n",
       "    </tr>\n",
       "    <tr>\n",
       "      <th>237601</th>\n",
       "      <td>53245A0D-B826-EB11-B444-005056A7539A</td>\n",
       "      <td>2344410</td>\n",
       "      <td>19746</td>\n",
       "      <td>1.0</td>\n",
       "      <td>31.0</td>\n",
       "      <td>227.8</td>\n",
       "      <td>2020-11-14 23:28:34</td>\n",
       "      <td>2020-11-14</td>\n",
       "    </tr>\n",
       "    <tr>\n",
       "      <th>237602</th>\n",
       "      <td>69AE2652-B826-EB11-B444-005056A7539A</td>\n",
       "      <td>0986449</td>\n",
       "      <td>17148</td>\n",
       "      <td>1.0</td>\n",
       "      <td>33.0</td>\n",
       "      <td>509.2</td>\n",
       "      <td>2020-11-14 23:29:14</td>\n",
       "      <td>2020-11-14</td>\n",
       "    </tr>\n",
       "    <tr>\n",
       "      <th>237603</th>\n",
       "      <td>69AE2652-B826-EB11-B444-005056A7539A</td>\n",
       "      <td>0986449</td>\n",
       "      <td>17148</td>\n",
       "      <td>1.0</td>\n",
       "      <td>33.0</td>\n",
       "      <td>509.2</td>\n",
       "      <td>2020-11-14 23:29:14</td>\n",
       "      <td>2020-11-14</td>\n",
       "    </tr>\n",
       "  </tbody>\n",
       "</table>\n",
       "<p>237604 rows × 8 columns</p>\n",
       "</div>"
      ],
      "text/plain": [
       "                                 Document ID Customer ID  Item ID  Quantity  \\\n",
       "0       300F2961-E2EB-EA11-B444-005056A7539A  1123834       26904       1.0   \n",
       "1       4DCB33F0-E4EB-EA11-B444-005056A7539A  1123834       23585       1.0   \n",
       "2       773417AE-09EC-EA11-B444-005056A7539A  6671470       17736       1.0   \n",
       "3       773417AE-09EC-EA11-B444-005056A7539A  6671470       20698       1.0   \n",
       "4       773417AE-09EC-EA11-B444-005056A7539A  6671470       15433       1.0   \n",
       "...                                      ...         ...      ...       ...   \n",
       "237599  8383244E-B626-EB11-B444-005056A7539A  3473448       27695       1.0   \n",
       "237600  2CEE5A30-B626-EB11-B444-005056A7539A  4628205         417       1.0   \n",
       "237601  53245A0D-B826-EB11-B444-005056A7539A  2344410       19746       1.0   \n",
       "237602  69AE2652-B826-EB11-B444-005056A7539A  0986449       17148       1.0   \n",
       "237603  69AE2652-B826-EB11-B444-005056A7539A  0986449       17148       1.0   \n",
       "\n",
       "        Sum of item  Sum of doc    Transaction Date       Date  \n",
       "0             195.0       195.0 2020-09-01 02:32:57 2020-09-01  \n",
       "1             126.0       191.0 2020-09-01 02:51:25 2020-09-01  \n",
       "2              37.8       292.8 2020-09-01 07:04:59 2020-09-01  \n",
       "3              96.0       292.8 2020-09-01 07:04:59 2020-09-01  \n",
       "4              24.0       292.8 2020-09-01 07:04:59 2020-09-01  \n",
       "...             ...         ...                 ...        ...  \n",
       "237599         76.0       281.0 2020-11-14 23:09:35 2020-11-14  \n",
       "237600        102.0       171.6 2020-11-14 23:15:17 2020-11-14  \n",
       "237601         31.0       227.8 2020-11-14 23:28:34 2020-11-14  \n",
       "237602         33.0       509.2 2020-11-14 23:29:14 2020-11-14  \n",
       "237603         33.0       509.2 2020-11-14 23:29:14 2020-11-14  \n",
       "\n",
       "[237604 rows x 8 columns]"
      ]
     },
     "execution_count": 35,
     "metadata": {},
     "output_type": "execute_result"
    }
   ],
   "source": [
    "train"
   ]
  },
  {
   "cell_type": "code",
   "execution_count": 92,
   "id": "b0d0b4e8",
   "metadata": {},
   "outputs": [],
   "source": [
    "def sim_item(item_name,data):\n",
    "    table = pd.pivot_table(data, index = ['Customer ID'],columns = ['Item ID'], values = 'Sum of item')\n",
    "    table.fillna(0, inplace=True)\n",
    "    sparse = sp.sparse.csr_matrix(table.values)\n",
    "    item_similarity = cosine_similarity(sparse.T)\n",
    "    item_sim_df = pd.DataFrame(item_similarity, index = table.columns, columns = table.columns)\n",
    "    \n",
    "    list_of_items = list(item_sim_df.sort_values(by = item_name, ascending = False).index[1:130])\n",
    "        \n",
    "    return list_of_items"
   ]
  },
  {
   "cell_type": "code",
   "execution_count": 93,
   "id": "b04834e8",
   "metadata": {},
   "outputs": [],
   "source": [
    "# So we can pick one customer from our top 10 customer list and test our model 2381193\n",
    "# To test our model we need to print the item list for that customer for test data and pick one item than put it in our model\n",
    "# to find the item list that mostly bought with that item \n",
    "\n",
    "test_set = list(test[test['Customer ID'].str.contains('2381193')]['Item ID'].unique())[1:130]"
   ]
  },
  {
   "cell_type": "code",
   "execution_count": 94,
   "id": "e2f17cca",
   "metadata": {},
   "outputs": [],
   "source": [
    "train_set = sim_item(28799,train)"
   ]
  },
  {
   "cell_type": "code",
   "execution_count": 95,
   "id": "59418a3d",
   "metadata": {},
   "outputs": [
    {
     "name": "stdout",
     "output_type": "stream",
     "text": [
      "33\n"
     ]
    }
   ],
   "source": [
    "count = 0\n",
    "for i in train_set:\n",
    "    for j in test_set:\n",
    "        if i == j:\n",
    "            count += 1\n",
    "print(count)"
   ]
  },
  {
   "cell_type": "code",
   "execution_count": 103,
   "id": "b2377021",
   "metadata": {},
   "outputs": [],
   "source": [
    "accuracy = (33/130)*100"
   ]
  },
  {
   "cell_type": "code",
   "execution_count": 104,
   "id": "b36eaf9b",
   "metadata": {},
   "outputs": [
    {
     "data": {
      "text/plain": [
       "25.384615384615383"
      ]
     },
     "execution_count": 104,
     "metadata": {},
     "output_type": "execute_result"
    }
   ],
   "source": [
    "accuracy"
   ]
  },
  {
   "cell_type": "code",
   "execution_count": null,
   "id": "899a3edd",
   "metadata": {},
   "outputs": [],
   "source": []
  }
 ],
 "metadata": {
  "kernelspec": {
   "display_name": "Python 3 (ipykernel)",
   "language": "python",
   "name": "python3"
  },
  "language_info": {
   "codemirror_mode": {
    "name": "ipython",
    "version": 3
   },
   "file_extension": ".py",
   "mimetype": "text/x-python",
   "name": "python",
   "nbconvert_exporter": "python",
   "pygments_lexer": "ipython3",
   "version": "3.9.7"
  }
 },
 "nbformat": 4,
 "nbformat_minor": 5
}
